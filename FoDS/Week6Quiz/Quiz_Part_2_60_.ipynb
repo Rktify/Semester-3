{
  "cells": [
    {
      "cell_type": "markdown",
      "metadata": {
        "id": "rkUXH_ave_DD"
      },
      "source": [
        "<h1>Part 2: Code Quiz<h1>"
      ]
    },
    {
      "cell_type": "markdown",
      "metadata": {
        "id": "rmlHw9E0fOr_"
      },
      "source": [
        "### <b>Study Case</b>\n",
        "We have a data which classified if patients have heart disease or not according to features in it. We will try to use this data to create a model to predict if a patient has this disease or not. We will use SVC (SVM for classification) and \n",
        "Decision Tree (ID3) algorithms.\n",
        "\n",
        "### Download the data from here: \n",
        "https://drive.google.com/file/d/1NUSiCOcClcrPOH8ClMYK6Dp6p-7evNTv/view?usp=sharing\n",
        "\n",
        "\n",
        "### <b>ABOUT DATASET: </b>\n",
        "\n",
        "1. age\n",
        "2. sex (1= Male, 0= Female)\n",
        "3. chest pain type (4 values)\n",
        "4. resting blood pressure\n",
        "5. serum cholestoral in mg/dl\n",
        "6. fasting blood sugar > 120 mg/dl\n",
        "7. resting electrocardiographic results (values 0,1,2)\n",
        "8. maximum heart rate achieved\n",
        "9. exercise induced angina\n",
        "10. oldpeak = ST depression induced by exercise relative to rest\n",
        "11. the slope of the peak exercise ST segment\n",
        "12. number of major vessels (0-3) colored by flourosopy\n",
        "13. thal: 0 = normal; 1 = fixed defect; 2 = reversable defect\n",
        "\n",
        "\n",
        "The \"AHD\" field refers to the presence of heart disease in the patient, the value is No and Yes.\n"
      ]
    },
    {
      "cell_type": "markdown",
      "metadata": {
        "id": "qQrmNzN68yDW"
      },
      "source": [
        "## Weight 10%"
      ]
    },
    {
      "cell_type": "code",
      "execution_count": 27,
      "metadata": {
        "id": "RteA5FbBeLOJ"
      },
      "outputs": [],
      "source": [
        "#1 import all libraries required : (e.g: numpy and pandas, sklearn, matplotlib, etc)\n",
        "import pandas as pd\n",
        "import matplotlib.pyplot as plt\n",
        "import seaborn as sns\n",
        "from sklearn.svm import SVC\n",
        "from sklearn.model_selection import train_test_split\n",
        "from sklearn import metrics\n",
        "import numpy as np\n",
        "from sklearn.metrics import accuracy_score"
      ]
    },
    {
      "cell_type": "code",
      "execution_count": 28,
      "metadata": {
        "id": "QNPnHSxChcSg"
      },
      "outputs": [],
      "source": [
        "#2 Import dataset into variabel\n",
        "df = pd.read_csv(\"Heart.csv\")"
      ]
    },
    {
      "cell_type": "code",
      "execution_count": 29,
      "metadata": {
        "id": "_kE_tE-FivbU"
      },
      "outputs": [
        {
          "name": "stdout",
          "output_type": "stream",
          "text": [
            "<class 'pandas.core.frame.DataFrame'>\n",
            "RangeIndex: 303 entries, 0 to 302\n",
            "Data columns (total 15 columns):\n",
            " #   Column      Non-Null Count  Dtype  \n",
            "---  ------      --------------  -----  \n",
            " 0   Unnamed: 0  303 non-null    int64  \n",
            " 1   Age         303 non-null    int64  \n",
            " 2   Sex         303 non-null    int64  \n",
            " 3   ChestPain   303 non-null    object \n",
            " 4   RestBP      303 non-null    int64  \n",
            " 5   Chol        303 non-null    int64  \n",
            " 6   Fbs         303 non-null    int64  \n",
            " 7   RestECG     303 non-null    int64  \n",
            " 8   MaxHR       303 non-null    int64  \n",
            " 9   ExAng       303 non-null    int64  \n",
            " 10  Oldpeak     303 non-null    float64\n",
            " 11  Slope       303 non-null    int64  \n",
            " 12  Ca          299 non-null    float64\n",
            " 13  Thal        301 non-null    object \n",
            " 14  AHD         303 non-null    object \n",
            "dtypes: float64(2), int64(10), object(3)\n",
            "memory usage: 35.6+ KB\n"
          ]
        }
      ],
      "source": [
        "#3 shows attributes, number of data and the data types for each attributes \n",
        "# AHD is Acquired heart diseases ~ later will be used as \"TARGET Class\"\n",
        "df.info()"
      ]
    },
    {
      "cell_type": "code",
      "execution_count": 30,
      "metadata": {
        "id": "DaSEUdw9kJmA"
      },
      "outputs": [
        {
          "data": {
            "text/html": [
              "<div>\n",
              "<style scoped>\n",
              "    .dataframe tbody tr th:only-of-type {\n",
              "        vertical-align: middle;\n",
              "    }\n",
              "\n",
              "    .dataframe tbody tr th {\n",
              "        vertical-align: top;\n",
              "    }\n",
              "\n",
              "    .dataframe thead th {\n",
              "        text-align: right;\n",
              "    }\n",
              "</style>\n",
              "<table border=\"1\" class=\"dataframe\">\n",
              "  <thead>\n",
              "    <tr style=\"text-align: right;\">\n",
              "      <th></th>\n",
              "      <th>Age</th>\n",
              "      <th>Sex</th>\n",
              "      <th>ChestPain</th>\n",
              "      <th>RestBP</th>\n",
              "      <th>Chol</th>\n",
              "      <th>Fbs</th>\n",
              "      <th>RestECG</th>\n",
              "      <th>MaxHR</th>\n",
              "      <th>ExAng</th>\n",
              "      <th>Oldpeak</th>\n",
              "      <th>Slope</th>\n",
              "      <th>Ca</th>\n",
              "      <th>Thal</th>\n",
              "      <th>AHD</th>\n",
              "    </tr>\n",
              "  </thead>\n",
              "  <tbody>\n",
              "    <tr>\n",
              "      <th>0</th>\n",
              "      <td>63</td>\n",
              "      <td>1</td>\n",
              "      <td>typical</td>\n",
              "      <td>145</td>\n",
              "      <td>233</td>\n",
              "      <td>1</td>\n",
              "      <td>2</td>\n",
              "      <td>150</td>\n",
              "      <td>0</td>\n",
              "      <td>2.3</td>\n",
              "      <td>3</td>\n",
              "      <td>0.0</td>\n",
              "      <td>fixed</td>\n",
              "      <td>No</td>\n",
              "    </tr>\n",
              "    <tr>\n",
              "      <th>1</th>\n",
              "      <td>67</td>\n",
              "      <td>1</td>\n",
              "      <td>asymptomatic</td>\n",
              "      <td>160</td>\n",
              "      <td>286</td>\n",
              "      <td>0</td>\n",
              "      <td>2</td>\n",
              "      <td>108</td>\n",
              "      <td>1</td>\n",
              "      <td>1.5</td>\n",
              "      <td>2</td>\n",
              "      <td>3.0</td>\n",
              "      <td>normal</td>\n",
              "      <td>Yes</td>\n",
              "    </tr>\n",
              "    <tr>\n",
              "      <th>2</th>\n",
              "      <td>67</td>\n",
              "      <td>1</td>\n",
              "      <td>asymptomatic</td>\n",
              "      <td>120</td>\n",
              "      <td>229</td>\n",
              "      <td>0</td>\n",
              "      <td>2</td>\n",
              "      <td>129</td>\n",
              "      <td>1</td>\n",
              "      <td>2.6</td>\n",
              "      <td>2</td>\n",
              "      <td>2.0</td>\n",
              "      <td>reversable</td>\n",
              "      <td>Yes</td>\n",
              "    </tr>\n",
              "    <tr>\n",
              "      <th>3</th>\n",
              "      <td>37</td>\n",
              "      <td>1</td>\n",
              "      <td>nonanginal</td>\n",
              "      <td>130</td>\n",
              "      <td>250</td>\n",
              "      <td>0</td>\n",
              "      <td>0</td>\n",
              "      <td>187</td>\n",
              "      <td>0</td>\n",
              "      <td>3.5</td>\n",
              "      <td>3</td>\n",
              "      <td>0.0</td>\n",
              "      <td>normal</td>\n",
              "      <td>No</td>\n",
              "    </tr>\n",
              "    <tr>\n",
              "      <th>4</th>\n",
              "      <td>41</td>\n",
              "      <td>0</td>\n",
              "      <td>nontypical</td>\n",
              "      <td>130</td>\n",
              "      <td>204</td>\n",
              "      <td>0</td>\n",
              "      <td>2</td>\n",
              "      <td>172</td>\n",
              "      <td>0</td>\n",
              "      <td>1.4</td>\n",
              "      <td>1</td>\n",
              "      <td>0.0</td>\n",
              "      <td>normal</td>\n",
              "      <td>No</td>\n",
              "    </tr>\n",
              "    <tr>\n",
              "      <th>...</th>\n",
              "      <td>...</td>\n",
              "      <td>...</td>\n",
              "      <td>...</td>\n",
              "      <td>...</td>\n",
              "      <td>...</td>\n",
              "      <td>...</td>\n",
              "      <td>...</td>\n",
              "      <td>...</td>\n",
              "      <td>...</td>\n",
              "      <td>...</td>\n",
              "      <td>...</td>\n",
              "      <td>...</td>\n",
              "      <td>...</td>\n",
              "      <td>...</td>\n",
              "    </tr>\n",
              "    <tr>\n",
              "      <th>298</th>\n",
              "      <td>45</td>\n",
              "      <td>1</td>\n",
              "      <td>typical</td>\n",
              "      <td>110</td>\n",
              "      <td>264</td>\n",
              "      <td>0</td>\n",
              "      <td>0</td>\n",
              "      <td>132</td>\n",
              "      <td>0</td>\n",
              "      <td>1.2</td>\n",
              "      <td>2</td>\n",
              "      <td>0.0</td>\n",
              "      <td>reversable</td>\n",
              "      <td>Yes</td>\n",
              "    </tr>\n",
              "    <tr>\n",
              "      <th>299</th>\n",
              "      <td>68</td>\n",
              "      <td>1</td>\n",
              "      <td>asymptomatic</td>\n",
              "      <td>144</td>\n",
              "      <td>193</td>\n",
              "      <td>1</td>\n",
              "      <td>0</td>\n",
              "      <td>141</td>\n",
              "      <td>0</td>\n",
              "      <td>3.4</td>\n",
              "      <td>2</td>\n",
              "      <td>2.0</td>\n",
              "      <td>reversable</td>\n",
              "      <td>Yes</td>\n",
              "    </tr>\n",
              "    <tr>\n",
              "      <th>300</th>\n",
              "      <td>57</td>\n",
              "      <td>1</td>\n",
              "      <td>asymptomatic</td>\n",
              "      <td>130</td>\n",
              "      <td>131</td>\n",
              "      <td>0</td>\n",
              "      <td>0</td>\n",
              "      <td>115</td>\n",
              "      <td>1</td>\n",
              "      <td>1.2</td>\n",
              "      <td>2</td>\n",
              "      <td>1.0</td>\n",
              "      <td>reversable</td>\n",
              "      <td>Yes</td>\n",
              "    </tr>\n",
              "    <tr>\n",
              "      <th>301</th>\n",
              "      <td>57</td>\n",
              "      <td>0</td>\n",
              "      <td>nontypical</td>\n",
              "      <td>130</td>\n",
              "      <td>236</td>\n",
              "      <td>0</td>\n",
              "      <td>2</td>\n",
              "      <td>174</td>\n",
              "      <td>0</td>\n",
              "      <td>0.0</td>\n",
              "      <td>2</td>\n",
              "      <td>1.0</td>\n",
              "      <td>normal</td>\n",
              "      <td>Yes</td>\n",
              "    </tr>\n",
              "    <tr>\n",
              "      <th>302</th>\n",
              "      <td>38</td>\n",
              "      <td>1</td>\n",
              "      <td>nonanginal</td>\n",
              "      <td>138</td>\n",
              "      <td>175</td>\n",
              "      <td>0</td>\n",
              "      <td>0</td>\n",
              "      <td>173</td>\n",
              "      <td>0</td>\n",
              "      <td>0.0</td>\n",
              "      <td>1</td>\n",
              "      <td>NaN</td>\n",
              "      <td>normal</td>\n",
              "      <td>No</td>\n",
              "    </tr>\n",
              "  </tbody>\n",
              "</table>\n",
              "<p>303 rows × 14 columns</p>\n",
              "</div>"
            ],
            "text/plain": [
              "     Age  Sex     ChestPain  RestBP  Chol  Fbs  RestECG  MaxHR  ExAng  \\\n",
              "0     63    1       typical     145   233    1        2    150      0   \n",
              "1     67    1  asymptomatic     160   286    0        2    108      1   \n",
              "2     67    1  asymptomatic     120   229    0        2    129      1   \n",
              "3     37    1    nonanginal     130   250    0        0    187      0   \n",
              "4     41    0    nontypical     130   204    0        2    172      0   \n",
              "..   ...  ...           ...     ...   ...  ...      ...    ...    ...   \n",
              "298   45    1       typical     110   264    0        0    132      0   \n",
              "299   68    1  asymptomatic     144   193    1        0    141      0   \n",
              "300   57    1  asymptomatic     130   131    0        0    115      1   \n",
              "301   57    0    nontypical     130   236    0        2    174      0   \n",
              "302   38    1    nonanginal     138   175    0        0    173      0   \n",
              "\n",
              "     Oldpeak  Slope   Ca        Thal  AHD  \n",
              "0        2.3      3  0.0       fixed   No  \n",
              "1        1.5      2  3.0      normal  Yes  \n",
              "2        2.6      2  2.0  reversable  Yes  \n",
              "3        3.5      3  0.0      normal   No  \n",
              "4        1.4      1  0.0      normal   No  \n",
              "..       ...    ...  ...         ...  ...  \n",
              "298      1.2      2  0.0  reversable  Yes  \n",
              "299      3.4      2  2.0  reversable  Yes  \n",
              "300      1.2      2  1.0  reversable  Yes  \n",
              "301      0.0      2  1.0      normal  Yes  \n",
              "302      0.0      1  NaN      normal   No  \n",
              "\n",
              "[303 rows x 14 columns]"
            ]
          },
          "execution_count": 30,
          "metadata": {},
          "output_type": "execute_result"
        }
      ],
      "source": [
        "#4 remove column 'Unnamed: 0'\n",
        "df = df.drop(df.columns[[0]], axis = 1)\n",
        "df"
      ]
    },
    {
      "cell_type": "code",
      "execution_count": 31,
      "metadata": {
        "id": "ygJgFoqWhuXR"
      },
      "outputs": [
        {
          "data": {
            "text/html": [
              "<div>\n",
              "<style scoped>\n",
              "    .dataframe tbody tr th:only-of-type {\n",
              "        vertical-align: middle;\n",
              "    }\n",
              "\n",
              "    .dataframe tbody tr th {\n",
              "        vertical-align: top;\n",
              "    }\n",
              "\n",
              "    .dataframe thead th {\n",
              "        text-align: right;\n",
              "    }\n",
              "</style>\n",
              "<table border=\"1\" class=\"dataframe\">\n",
              "  <thead>\n",
              "    <tr style=\"text-align: right;\">\n",
              "      <th></th>\n",
              "      <th>Age</th>\n",
              "      <th>Sex</th>\n",
              "      <th>ChestPain</th>\n",
              "      <th>RestBP</th>\n",
              "      <th>Chol</th>\n",
              "      <th>Fbs</th>\n",
              "      <th>RestECG</th>\n",
              "      <th>MaxHR</th>\n",
              "      <th>ExAng</th>\n",
              "      <th>Oldpeak</th>\n",
              "      <th>Slope</th>\n",
              "      <th>Ca</th>\n",
              "      <th>Thal</th>\n",
              "      <th>AHD</th>\n",
              "    </tr>\n",
              "  </thead>\n",
              "  <tbody>\n",
              "    <tr>\n",
              "      <th>0</th>\n",
              "      <td>63</td>\n",
              "      <td>1</td>\n",
              "      <td>typical</td>\n",
              "      <td>145</td>\n",
              "      <td>233</td>\n",
              "      <td>1</td>\n",
              "      <td>2</td>\n",
              "      <td>150</td>\n",
              "      <td>0</td>\n",
              "      <td>2.3</td>\n",
              "      <td>3</td>\n",
              "      <td>0.0</td>\n",
              "      <td>fixed</td>\n",
              "      <td>No</td>\n",
              "    </tr>\n",
              "    <tr>\n",
              "      <th>1</th>\n",
              "      <td>67</td>\n",
              "      <td>1</td>\n",
              "      <td>asymptomatic</td>\n",
              "      <td>160</td>\n",
              "      <td>286</td>\n",
              "      <td>0</td>\n",
              "      <td>2</td>\n",
              "      <td>108</td>\n",
              "      <td>1</td>\n",
              "      <td>1.5</td>\n",
              "      <td>2</td>\n",
              "      <td>3.0</td>\n",
              "      <td>normal</td>\n",
              "      <td>Yes</td>\n",
              "    </tr>\n",
              "    <tr>\n",
              "      <th>2</th>\n",
              "      <td>67</td>\n",
              "      <td>1</td>\n",
              "      <td>asymptomatic</td>\n",
              "      <td>120</td>\n",
              "      <td>229</td>\n",
              "      <td>0</td>\n",
              "      <td>2</td>\n",
              "      <td>129</td>\n",
              "      <td>1</td>\n",
              "      <td>2.6</td>\n",
              "      <td>2</td>\n",
              "      <td>2.0</td>\n",
              "      <td>reversable</td>\n",
              "      <td>Yes</td>\n",
              "    </tr>\n",
              "    <tr>\n",
              "      <th>3</th>\n",
              "      <td>37</td>\n",
              "      <td>1</td>\n",
              "      <td>nonanginal</td>\n",
              "      <td>130</td>\n",
              "      <td>250</td>\n",
              "      <td>0</td>\n",
              "      <td>0</td>\n",
              "      <td>187</td>\n",
              "      <td>0</td>\n",
              "      <td>3.5</td>\n",
              "      <td>3</td>\n",
              "      <td>0.0</td>\n",
              "      <td>normal</td>\n",
              "      <td>No</td>\n",
              "    </tr>\n",
              "    <tr>\n",
              "      <th>4</th>\n",
              "      <td>41</td>\n",
              "      <td>0</td>\n",
              "      <td>nontypical</td>\n",
              "      <td>130</td>\n",
              "      <td>204</td>\n",
              "      <td>0</td>\n",
              "      <td>2</td>\n",
              "      <td>172</td>\n",
              "      <td>0</td>\n",
              "      <td>1.4</td>\n",
              "      <td>1</td>\n",
              "      <td>0.0</td>\n",
              "      <td>normal</td>\n",
              "      <td>No</td>\n",
              "    </tr>\n",
              "  </tbody>\n",
              "</table>\n",
              "</div>"
            ],
            "text/plain": [
              "   Age  Sex     ChestPain  RestBP  Chol  Fbs  RestECG  MaxHR  ExAng  Oldpeak  \\\n",
              "0   63    1       typical     145   233    1        2    150      0      2.3   \n",
              "1   67    1  asymptomatic     160   286    0        2    108      1      1.5   \n",
              "2   67    1  asymptomatic     120   229    0        2    129      1      2.6   \n",
              "3   37    1    nonanginal     130   250    0        0    187      0      3.5   \n",
              "4   41    0    nontypical     130   204    0        2    172      0      1.4   \n",
              "\n",
              "   Slope   Ca        Thal  AHD  \n",
              "0      3  0.0       fixed   No  \n",
              "1      2  3.0      normal  Yes  \n",
              "2      2  2.0  reversable  Yes  \n",
              "3      3  0.0      normal   No  \n",
              "4      1  0.0      normal   No  "
            ]
          },
          "execution_count": 31,
          "metadata": {},
          "output_type": "execute_result"
        }
      ],
      "source": [
        "#5 print 'Data First 5 Rows Show'\n",
        "df.head(5)"
      ]
    },
    {
      "cell_type": "code",
      "execution_count": 32,
      "metadata": {
        "id": "4prb_mmhh86U"
      },
      "outputs": [
        {
          "data": {
            "text/html": [
              "<div>\n",
              "<style scoped>\n",
              "    .dataframe tbody tr th:only-of-type {\n",
              "        vertical-align: middle;\n",
              "    }\n",
              "\n",
              "    .dataframe tbody tr th {\n",
              "        vertical-align: top;\n",
              "    }\n",
              "\n",
              "    .dataframe thead th {\n",
              "        text-align: right;\n",
              "    }\n",
              "</style>\n",
              "<table border=\"1\" class=\"dataframe\">\n",
              "  <thead>\n",
              "    <tr style=\"text-align: right;\">\n",
              "      <th></th>\n",
              "      <th>Age</th>\n",
              "      <th>Sex</th>\n",
              "      <th>ChestPain</th>\n",
              "      <th>RestBP</th>\n",
              "      <th>Chol</th>\n",
              "      <th>Fbs</th>\n",
              "      <th>RestECG</th>\n",
              "      <th>MaxHR</th>\n",
              "      <th>ExAng</th>\n",
              "      <th>Oldpeak</th>\n",
              "      <th>Slope</th>\n",
              "      <th>Ca</th>\n",
              "      <th>Thal</th>\n",
              "      <th>AHD</th>\n",
              "    </tr>\n",
              "  </thead>\n",
              "  <tbody>\n",
              "    <tr>\n",
              "      <th>298</th>\n",
              "      <td>45</td>\n",
              "      <td>1</td>\n",
              "      <td>typical</td>\n",
              "      <td>110</td>\n",
              "      <td>264</td>\n",
              "      <td>0</td>\n",
              "      <td>0</td>\n",
              "      <td>132</td>\n",
              "      <td>0</td>\n",
              "      <td>1.2</td>\n",
              "      <td>2</td>\n",
              "      <td>0.0</td>\n",
              "      <td>reversable</td>\n",
              "      <td>Yes</td>\n",
              "    </tr>\n",
              "    <tr>\n",
              "      <th>299</th>\n",
              "      <td>68</td>\n",
              "      <td>1</td>\n",
              "      <td>asymptomatic</td>\n",
              "      <td>144</td>\n",
              "      <td>193</td>\n",
              "      <td>1</td>\n",
              "      <td>0</td>\n",
              "      <td>141</td>\n",
              "      <td>0</td>\n",
              "      <td>3.4</td>\n",
              "      <td>2</td>\n",
              "      <td>2.0</td>\n",
              "      <td>reversable</td>\n",
              "      <td>Yes</td>\n",
              "    </tr>\n",
              "    <tr>\n",
              "      <th>300</th>\n",
              "      <td>57</td>\n",
              "      <td>1</td>\n",
              "      <td>asymptomatic</td>\n",
              "      <td>130</td>\n",
              "      <td>131</td>\n",
              "      <td>0</td>\n",
              "      <td>0</td>\n",
              "      <td>115</td>\n",
              "      <td>1</td>\n",
              "      <td>1.2</td>\n",
              "      <td>2</td>\n",
              "      <td>1.0</td>\n",
              "      <td>reversable</td>\n",
              "      <td>Yes</td>\n",
              "    </tr>\n",
              "    <tr>\n",
              "      <th>301</th>\n",
              "      <td>57</td>\n",
              "      <td>0</td>\n",
              "      <td>nontypical</td>\n",
              "      <td>130</td>\n",
              "      <td>236</td>\n",
              "      <td>0</td>\n",
              "      <td>2</td>\n",
              "      <td>174</td>\n",
              "      <td>0</td>\n",
              "      <td>0.0</td>\n",
              "      <td>2</td>\n",
              "      <td>1.0</td>\n",
              "      <td>normal</td>\n",
              "      <td>Yes</td>\n",
              "    </tr>\n",
              "    <tr>\n",
              "      <th>302</th>\n",
              "      <td>38</td>\n",
              "      <td>1</td>\n",
              "      <td>nonanginal</td>\n",
              "      <td>138</td>\n",
              "      <td>175</td>\n",
              "      <td>0</td>\n",
              "      <td>0</td>\n",
              "      <td>173</td>\n",
              "      <td>0</td>\n",
              "      <td>0.0</td>\n",
              "      <td>1</td>\n",
              "      <td>NaN</td>\n",
              "      <td>normal</td>\n",
              "      <td>No</td>\n",
              "    </tr>\n",
              "  </tbody>\n",
              "</table>\n",
              "</div>"
            ],
            "text/plain": [
              "     Age  Sex     ChestPain  RestBP  Chol  Fbs  RestECG  MaxHR  ExAng  \\\n",
              "298   45    1       typical     110   264    0        0    132      0   \n",
              "299   68    1  asymptomatic     144   193    1        0    141      0   \n",
              "300   57    1  asymptomatic     130   131    0        0    115      1   \n",
              "301   57    0    nontypical     130   236    0        2    174      0   \n",
              "302   38    1    nonanginal     138   175    0        0    173      0   \n",
              "\n",
              "     Oldpeak  Slope   Ca        Thal  AHD  \n",
              "298      1.2      2  0.0  reversable  Yes  \n",
              "299      3.4      2  2.0  reversable  Yes  \n",
              "300      1.2      2  1.0  reversable  Yes  \n",
              "301      0.0      2  1.0      normal  Yes  \n",
              "302      0.0      1  NaN      normal   No  "
            ]
          },
          "execution_count": 32,
          "metadata": {},
          "output_type": "execute_result"
        }
      ],
      "source": [
        "#6 print 'Data Last 5 Rows Show'\n",
        "df.tail(5)"
      ]
    },
    {
      "cell_type": "code",
      "execution_count": 34,
      "metadata": {
        "id": "vahP5ClHiKH6"
      },
      "outputs": [
        {
          "data": {
            "text/html": [
              "<div>\n",
              "<style scoped>\n",
              "    .dataframe tbody tr th:only-of-type {\n",
              "        vertical-align: middle;\n",
              "    }\n",
              "\n",
              "    .dataframe tbody tr th {\n",
              "        vertical-align: top;\n",
              "    }\n",
              "\n",
              "    .dataframe thead th {\n",
              "        text-align: right;\n",
              "    }\n",
              "</style>\n",
              "<table border=\"1\" class=\"dataframe\">\n",
              "  <thead>\n",
              "    <tr style=\"text-align: right;\">\n",
              "      <th></th>\n",
              "      <th>Age</th>\n",
              "      <th>Sex</th>\n",
              "      <th>RestBP</th>\n",
              "      <th>Chol</th>\n",
              "      <th>Fbs</th>\n",
              "      <th>RestECG</th>\n",
              "      <th>MaxHR</th>\n",
              "      <th>ExAng</th>\n",
              "      <th>Oldpeak</th>\n",
              "      <th>Slope</th>\n",
              "      <th>Ca</th>\n",
              "    </tr>\n",
              "  </thead>\n",
              "  <tbody>\n",
              "    <tr>\n",
              "      <th>count</th>\n",
              "      <td>303.000000</td>\n",
              "      <td>303.000000</td>\n",
              "      <td>303.000000</td>\n",
              "      <td>303.000000</td>\n",
              "      <td>303.000000</td>\n",
              "      <td>303.000000</td>\n",
              "      <td>303.000000</td>\n",
              "      <td>303.000000</td>\n",
              "      <td>303.000000</td>\n",
              "      <td>303.000000</td>\n",
              "      <td>299.000000</td>\n",
              "    </tr>\n",
              "    <tr>\n",
              "      <th>mean</th>\n",
              "      <td>54.438944</td>\n",
              "      <td>0.679868</td>\n",
              "      <td>131.689769</td>\n",
              "      <td>246.693069</td>\n",
              "      <td>0.148515</td>\n",
              "      <td>0.990099</td>\n",
              "      <td>149.607261</td>\n",
              "      <td>0.326733</td>\n",
              "      <td>1.039604</td>\n",
              "      <td>1.600660</td>\n",
              "      <td>0.672241</td>\n",
              "    </tr>\n",
              "    <tr>\n",
              "      <th>std</th>\n",
              "      <td>9.038662</td>\n",
              "      <td>0.467299</td>\n",
              "      <td>17.599748</td>\n",
              "      <td>51.776918</td>\n",
              "      <td>0.356198</td>\n",
              "      <td>0.994971</td>\n",
              "      <td>22.875003</td>\n",
              "      <td>0.469794</td>\n",
              "      <td>1.161075</td>\n",
              "      <td>0.616226</td>\n",
              "      <td>0.937438</td>\n",
              "    </tr>\n",
              "    <tr>\n",
              "      <th>min</th>\n",
              "      <td>29.000000</td>\n",
              "      <td>0.000000</td>\n",
              "      <td>94.000000</td>\n",
              "      <td>126.000000</td>\n",
              "      <td>0.000000</td>\n",
              "      <td>0.000000</td>\n",
              "      <td>71.000000</td>\n",
              "      <td>0.000000</td>\n",
              "      <td>0.000000</td>\n",
              "      <td>1.000000</td>\n",
              "      <td>0.000000</td>\n",
              "    </tr>\n",
              "    <tr>\n",
              "      <th>25%</th>\n",
              "      <td>48.000000</td>\n",
              "      <td>0.000000</td>\n",
              "      <td>120.000000</td>\n",
              "      <td>211.000000</td>\n",
              "      <td>0.000000</td>\n",
              "      <td>0.000000</td>\n",
              "      <td>133.500000</td>\n",
              "      <td>0.000000</td>\n",
              "      <td>0.000000</td>\n",
              "      <td>1.000000</td>\n",
              "      <td>0.000000</td>\n",
              "    </tr>\n",
              "    <tr>\n",
              "      <th>50%</th>\n",
              "      <td>56.000000</td>\n",
              "      <td>1.000000</td>\n",
              "      <td>130.000000</td>\n",
              "      <td>241.000000</td>\n",
              "      <td>0.000000</td>\n",
              "      <td>1.000000</td>\n",
              "      <td>153.000000</td>\n",
              "      <td>0.000000</td>\n",
              "      <td>0.800000</td>\n",
              "      <td>2.000000</td>\n",
              "      <td>0.000000</td>\n",
              "    </tr>\n",
              "    <tr>\n",
              "      <th>75%</th>\n",
              "      <td>61.000000</td>\n",
              "      <td>1.000000</td>\n",
              "      <td>140.000000</td>\n",
              "      <td>275.000000</td>\n",
              "      <td>0.000000</td>\n",
              "      <td>2.000000</td>\n",
              "      <td>166.000000</td>\n",
              "      <td>1.000000</td>\n",
              "      <td>1.600000</td>\n",
              "      <td>2.000000</td>\n",
              "      <td>1.000000</td>\n",
              "    </tr>\n",
              "    <tr>\n",
              "      <th>max</th>\n",
              "      <td>77.000000</td>\n",
              "      <td>1.000000</td>\n",
              "      <td>200.000000</td>\n",
              "      <td>564.000000</td>\n",
              "      <td>1.000000</td>\n",
              "      <td>2.000000</td>\n",
              "      <td>202.000000</td>\n",
              "      <td>1.000000</td>\n",
              "      <td>6.200000</td>\n",
              "      <td>3.000000</td>\n",
              "      <td>3.000000</td>\n",
              "    </tr>\n",
              "  </tbody>\n",
              "</table>\n",
              "</div>"
            ],
            "text/plain": [
              "              Age         Sex      RestBP        Chol         Fbs     RestECG  \\\n",
              "count  303.000000  303.000000  303.000000  303.000000  303.000000  303.000000   \n",
              "mean    54.438944    0.679868  131.689769  246.693069    0.148515    0.990099   \n",
              "std      9.038662    0.467299   17.599748   51.776918    0.356198    0.994971   \n",
              "min     29.000000    0.000000   94.000000  126.000000    0.000000    0.000000   \n",
              "25%     48.000000    0.000000  120.000000  211.000000    0.000000    0.000000   \n",
              "50%     56.000000    1.000000  130.000000  241.000000    0.000000    1.000000   \n",
              "75%     61.000000    1.000000  140.000000  275.000000    0.000000    2.000000   \n",
              "max     77.000000    1.000000  200.000000  564.000000    1.000000    2.000000   \n",
              "\n",
              "            MaxHR       ExAng     Oldpeak       Slope          Ca  \n",
              "count  303.000000  303.000000  303.000000  303.000000  299.000000  \n",
              "mean   149.607261    0.326733    1.039604    1.600660    0.672241  \n",
              "std     22.875003    0.469794    1.161075    0.616226    0.937438  \n",
              "min     71.000000    0.000000    0.000000    1.000000    0.000000  \n",
              "25%    133.500000    0.000000    0.000000    1.000000    0.000000  \n",
              "50%    153.000000    0.000000    0.800000    2.000000    0.000000  \n",
              "75%    166.000000    1.000000    1.600000    2.000000    1.000000  \n",
              "max    202.000000    1.000000    6.200000    3.000000    3.000000  "
            ]
          },
          "execution_count": 34,
          "metadata": {},
          "output_type": "execute_result"
        }
      ],
      "source": [
        "#7 print the statistic of the dataset (count, mean, SD, min, max, etc )\n",
        "df.describe()"
      ]
    },
    {
      "cell_type": "code",
      "execution_count": 35,
      "metadata": {
        "id": "FUruveIPjAwC"
      },
      "outputs": [
        {
          "data": {
            "text/plain": [
              "Age          0\n",
              "Sex          0\n",
              "ChestPain    0\n",
              "RestBP       0\n",
              "Chol         0\n",
              "Fbs          0\n",
              "RestECG      0\n",
              "MaxHR        0\n",
              "ExAng        0\n",
              "Oldpeak      0\n",
              "Slope        0\n",
              "Ca           4\n",
              "Thal         2\n",
              "AHD          0\n",
              "dtype: int64"
            ]
          },
          "execution_count": 35,
          "metadata": {},
          "output_type": "execute_result"
        }
      ],
      "source": [
        "#8 check null on all data and If data has null, by sum of null data's\n",
        "df.isnull().sum()"
      ]
    },
    {
      "cell_type": "code",
      "execution_count": 36,
      "metadata": {
        "id": "BGIrwGMAklJC"
      },
      "outputs": [
        {
          "data": {
            "text/html": [
              "<div>\n",
              "<style scoped>\n",
              "    .dataframe tbody tr th:only-of-type {\n",
              "        vertical-align: middle;\n",
              "    }\n",
              "\n",
              "    .dataframe tbody tr th {\n",
              "        vertical-align: top;\n",
              "    }\n",
              "\n",
              "    .dataframe thead th {\n",
              "        text-align: right;\n",
              "    }\n",
              "</style>\n",
              "<table border=\"1\" class=\"dataframe\">\n",
              "  <thead>\n",
              "    <tr style=\"text-align: right;\">\n",
              "      <th></th>\n",
              "      <th>Age</th>\n",
              "      <th>Sex</th>\n",
              "      <th>ChestPain</th>\n",
              "      <th>RestBP</th>\n",
              "      <th>Chol</th>\n",
              "      <th>Fbs</th>\n",
              "      <th>RestECG</th>\n",
              "      <th>MaxHR</th>\n",
              "      <th>ExAng</th>\n",
              "      <th>Oldpeak</th>\n",
              "      <th>Slope</th>\n",
              "      <th>Ca</th>\n",
              "      <th>Thal</th>\n",
              "      <th>AHD</th>\n",
              "    </tr>\n",
              "  </thead>\n",
              "  <tbody>\n",
              "    <tr>\n",
              "      <th>0</th>\n",
              "      <td>63</td>\n",
              "      <td>1</td>\n",
              "      <td>typical</td>\n",
              "      <td>145</td>\n",
              "      <td>233</td>\n",
              "      <td>1</td>\n",
              "      <td>2</td>\n",
              "      <td>150</td>\n",
              "      <td>0</td>\n",
              "      <td>2.3</td>\n",
              "      <td>3</td>\n",
              "      <td>0.0</td>\n",
              "      <td>fixed</td>\n",
              "      <td>No</td>\n",
              "    </tr>\n",
              "    <tr>\n",
              "      <th>1</th>\n",
              "      <td>67</td>\n",
              "      <td>1</td>\n",
              "      <td>asymptomatic</td>\n",
              "      <td>160</td>\n",
              "      <td>286</td>\n",
              "      <td>0</td>\n",
              "      <td>2</td>\n",
              "      <td>108</td>\n",
              "      <td>1</td>\n",
              "      <td>1.5</td>\n",
              "      <td>2</td>\n",
              "      <td>3.0</td>\n",
              "      <td>normal</td>\n",
              "      <td>Yes</td>\n",
              "    </tr>\n",
              "    <tr>\n",
              "      <th>2</th>\n",
              "      <td>67</td>\n",
              "      <td>1</td>\n",
              "      <td>asymptomatic</td>\n",
              "      <td>120</td>\n",
              "      <td>229</td>\n",
              "      <td>0</td>\n",
              "      <td>2</td>\n",
              "      <td>129</td>\n",
              "      <td>1</td>\n",
              "      <td>2.6</td>\n",
              "      <td>2</td>\n",
              "      <td>2.0</td>\n",
              "      <td>reversable</td>\n",
              "      <td>Yes</td>\n",
              "    </tr>\n",
              "    <tr>\n",
              "      <th>3</th>\n",
              "      <td>37</td>\n",
              "      <td>1</td>\n",
              "      <td>nonanginal</td>\n",
              "      <td>130</td>\n",
              "      <td>250</td>\n",
              "      <td>0</td>\n",
              "      <td>0</td>\n",
              "      <td>187</td>\n",
              "      <td>0</td>\n",
              "      <td>3.5</td>\n",
              "      <td>3</td>\n",
              "      <td>0.0</td>\n",
              "      <td>normal</td>\n",
              "      <td>No</td>\n",
              "    </tr>\n",
              "    <tr>\n",
              "      <th>4</th>\n",
              "      <td>41</td>\n",
              "      <td>0</td>\n",
              "      <td>nontypical</td>\n",
              "      <td>130</td>\n",
              "      <td>204</td>\n",
              "      <td>0</td>\n",
              "      <td>2</td>\n",
              "      <td>172</td>\n",
              "      <td>0</td>\n",
              "      <td>1.4</td>\n",
              "      <td>1</td>\n",
              "      <td>0.0</td>\n",
              "      <td>normal</td>\n",
              "      <td>No</td>\n",
              "    </tr>\n",
              "    <tr>\n",
              "      <th>...</th>\n",
              "      <td>...</td>\n",
              "      <td>...</td>\n",
              "      <td>...</td>\n",
              "      <td>...</td>\n",
              "      <td>...</td>\n",
              "      <td>...</td>\n",
              "      <td>...</td>\n",
              "      <td>...</td>\n",
              "      <td>...</td>\n",
              "      <td>...</td>\n",
              "      <td>...</td>\n",
              "      <td>...</td>\n",
              "      <td>...</td>\n",
              "      <td>...</td>\n",
              "    </tr>\n",
              "    <tr>\n",
              "      <th>297</th>\n",
              "      <td>57</td>\n",
              "      <td>0</td>\n",
              "      <td>asymptomatic</td>\n",
              "      <td>140</td>\n",
              "      <td>241</td>\n",
              "      <td>0</td>\n",
              "      <td>0</td>\n",
              "      <td>123</td>\n",
              "      <td>1</td>\n",
              "      <td>0.2</td>\n",
              "      <td>2</td>\n",
              "      <td>0.0</td>\n",
              "      <td>reversable</td>\n",
              "      <td>Yes</td>\n",
              "    </tr>\n",
              "    <tr>\n",
              "      <th>298</th>\n",
              "      <td>45</td>\n",
              "      <td>1</td>\n",
              "      <td>typical</td>\n",
              "      <td>110</td>\n",
              "      <td>264</td>\n",
              "      <td>0</td>\n",
              "      <td>0</td>\n",
              "      <td>132</td>\n",
              "      <td>0</td>\n",
              "      <td>1.2</td>\n",
              "      <td>2</td>\n",
              "      <td>0.0</td>\n",
              "      <td>reversable</td>\n",
              "      <td>Yes</td>\n",
              "    </tr>\n",
              "    <tr>\n",
              "      <th>299</th>\n",
              "      <td>68</td>\n",
              "      <td>1</td>\n",
              "      <td>asymptomatic</td>\n",
              "      <td>144</td>\n",
              "      <td>193</td>\n",
              "      <td>1</td>\n",
              "      <td>0</td>\n",
              "      <td>141</td>\n",
              "      <td>0</td>\n",
              "      <td>3.4</td>\n",
              "      <td>2</td>\n",
              "      <td>2.0</td>\n",
              "      <td>reversable</td>\n",
              "      <td>Yes</td>\n",
              "    </tr>\n",
              "    <tr>\n",
              "      <th>300</th>\n",
              "      <td>57</td>\n",
              "      <td>1</td>\n",
              "      <td>asymptomatic</td>\n",
              "      <td>130</td>\n",
              "      <td>131</td>\n",
              "      <td>0</td>\n",
              "      <td>0</td>\n",
              "      <td>115</td>\n",
              "      <td>1</td>\n",
              "      <td>1.2</td>\n",
              "      <td>2</td>\n",
              "      <td>1.0</td>\n",
              "      <td>reversable</td>\n",
              "      <td>Yes</td>\n",
              "    </tr>\n",
              "    <tr>\n",
              "      <th>301</th>\n",
              "      <td>57</td>\n",
              "      <td>0</td>\n",
              "      <td>nontypical</td>\n",
              "      <td>130</td>\n",
              "      <td>236</td>\n",
              "      <td>0</td>\n",
              "      <td>2</td>\n",
              "      <td>174</td>\n",
              "      <td>0</td>\n",
              "      <td>0.0</td>\n",
              "      <td>2</td>\n",
              "      <td>1.0</td>\n",
              "      <td>normal</td>\n",
              "      <td>Yes</td>\n",
              "    </tr>\n",
              "  </tbody>\n",
              "</table>\n",
              "<p>297 rows × 14 columns</p>\n",
              "</div>"
            ],
            "text/plain": [
              "     Age  Sex     ChestPain  RestBP  Chol  Fbs  RestECG  MaxHR  ExAng  \\\n",
              "0     63    1       typical     145   233    1        2    150      0   \n",
              "1     67    1  asymptomatic     160   286    0        2    108      1   \n",
              "2     67    1  asymptomatic     120   229    0        2    129      1   \n",
              "3     37    1    nonanginal     130   250    0        0    187      0   \n",
              "4     41    0    nontypical     130   204    0        2    172      0   \n",
              "..   ...  ...           ...     ...   ...  ...      ...    ...    ...   \n",
              "297   57    0  asymptomatic     140   241    0        0    123      1   \n",
              "298   45    1       typical     110   264    0        0    132      0   \n",
              "299   68    1  asymptomatic     144   193    1        0    141      0   \n",
              "300   57    1  asymptomatic     130   131    0        0    115      1   \n",
              "301   57    0    nontypical     130   236    0        2    174      0   \n",
              "\n",
              "     Oldpeak  Slope   Ca        Thal  AHD  \n",
              "0        2.3      3  0.0       fixed   No  \n",
              "1        1.5      2  3.0      normal  Yes  \n",
              "2        2.6      2  2.0  reversable  Yes  \n",
              "3        3.5      3  0.0      normal   No  \n",
              "4        1.4      1  0.0      normal   No  \n",
              "..       ...    ...  ...         ...  ...  \n",
              "297      0.2      2  0.0  reversable  Yes  \n",
              "298      1.2      2  0.0  reversable  Yes  \n",
              "299      3.4      2  2.0  reversable  Yes  \n",
              "300      1.2      2  1.0  reversable  Yes  \n",
              "301      0.0      2  1.0      normal  Yes  \n",
              "\n",
              "[297 rows x 14 columns]"
            ]
          },
          "execution_count": 36,
          "metadata": {},
          "output_type": "execute_result"
        }
      ],
      "source": [
        "#9 Try removing all the rows from the dataset that contain missing values. How many are left?\n",
        "df = df.dropna()\n",
        "df"
      ]
    },
    {
      "cell_type": "code",
      "execution_count": 37,
      "metadata": {},
      "outputs": [
        {
          "data": {
            "text/plain": [
              "Age          0\n",
              "Sex          0\n",
              "ChestPain    0\n",
              "RestBP       0\n",
              "Chol         0\n",
              "Fbs          0\n",
              "RestECG      0\n",
              "MaxHR        0\n",
              "ExAng        0\n",
              "Oldpeak      0\n",
              "Slope        0\n",
              "Ca           0\n",
              "Thal         0\n",
              "AHD          0\n",
              "dtype: int64"
            ]
          },
          "execution_count": 37,
          "metadata": {},
          "output_type": "execute_result"
        }
      ],
      "source": [
        "df.isnull().sum()"
      ]
    },
    {
      "cell_type": "code",
      "execution_count": 39,
      "metadata": {
        "id": "NXhlvnH9jkUo"
      },
      "outputs": [
        {
          "name": "stderr",
          "output_type": "stream",
          "text": [
            "C:\\Users\\Lenovo\\AppData\\Local\\Temp\\ipykernel_19208\\720966294.py:2: FutureWarning: The default value of numeric_only in DataFrame.corr is deprecated. In a future version, it will default to False. Select only valid columns or specify the value of numeric_only to silence this warning.\n",
            "  plot = sns.heatmap(df.corr(), annot=True)\n"
          ]
        },
        {
          "data": {
            "image/png": "[encoded data removed]",
            "text/plain": [
              "<Figure size 640x480 with 2 Axes>"
            ]
          },
          "metadata": {},
          "output_type": "display_data"
        }
      ],
      "source": [
        "#10 Show statistical correlation value from each column using SNS heatmap\n",
        "plot = sns.heatmap(df.corr(), annot=True)"
      ]
    },
    {
      "cell_type": "markdown",
      "metadata": {
        "id": "iixPyL_Rv7Jf"
      },
      "source": [
        "##*Lets* do some attribute analysis - Age Analysis (Weight 20%)\n",
        "\n"
      ]
    },
    {
      "cell_type": "code",
      "execution_count": 45,
      "metadata": {
        "id": "zUkGmIkPvyCT"
      },
      "outputs": [
        {
          "data": {
            "text/plain": [
              "81.8977158977159"
            ]
          },
          "execution_count": 45,
          "metadata": {},
          "output_type": "execute_result"
        }
      ],
      "source": [
        "#11 Print variance age data from dataset\n",
        "df['Age'].var()"
      ]
    },
    {
      "cell_type": "code",
      "execution_count": 53,
      "metadata": {
        "id": "VphvMQM-wD4_"
      },
      "outputs": [
        {
          "name": "stderr",
          "output_type": "stream",
          "text": [
            "C:\\Users\\Lenovo\\AppData\\Local\\Temp\\ipykernel_19208\\855326384.py:4: SettingWithCopyWarning: \n",
            "A value is trying to be set on a copy of a slice from a DataFrame.\n",
            "Try using .loc[row_indexer,col_indexer] = value instead\n",
            "\n",
            "See the caveats in the documentation: https://pandas.pydata.org/pandas-docs/stable/user_guide/indexing.html#returning-a-view-versus-a-copy\n",
            "  df['Age Range'] = np.select(conditions, choices)\n"
          ]
        },
        {
          "data": {
            "text/html": [
              "<div>\n",
              "<style scoped>\n",
              "    .dataframe tbody tr th:only-of-type {\n",
              "        vertical-align: middle;\n",
              "    }\n",
              "\n",
              "    .dataframe tbody tr th {\n",
              "        vertical-align: top;\n",
              "    }\n",
              "\n",
              "    .dataframe thead th {\n",
              "        text-align: right;\n",
              "    }\n",
              "</style>\n",
              "<table border=\"1\" class=\"dataframe\">\n",
              "  <thead>\n",
              "    <tr style=\"text-align: right;\">\n",
              "      <th></th>\n",
              "      <th>Age</th>\n",
              "      <th>Sex</th>\n",
              "      <th>ChestPain</th>\n",
              "      <th>RestBP</th>\n",
              "      <th>Chol</th>\n",
              "      <th>Fbs</th>\n",
              "      <th>RestECG</th>\n",
              "      <th>MaxHR</th>\n",
              "      <th>ExAng</th>\n",
              "      <th>Oldpeak</th>\n",
              "      <th>Slope</th>\n",
              "      <th>Ca</th>\n",
              "      <th>Thal</th>\n",
              "      <th>AHD</th>\n",
              "      <th>Age Status</th>\n",
              "      <th>Age Range</th>\n",
              "    </tr>\n",
              "  </thead>\n",
              "  <tbody>\n",
              "    <tr>\n",
              "      <th>0</th>\n",
              "      <td>63</td>\n",
              "      <td>1</td>\n",
              "      <td>typical</td>\n",
              "      <td>145</td>\n",
              "      <td>233</td>\n",
              "      <td>1</td>\n",
              "      <td>2</td>\n",
              "      <td>150</td>\n",
              "      <td>0</td>\n",
              "      <td>2.3</td>\n",
              "      <td>3</td>\n",
              "      <td>0.0</td>\n",
              "      <td>fixed</td>\n",
              "      <td>No</td>\n",
              "      <td>Elderly</td>\n",
              "      <td>Elderly</td>\n",
              "    </tr>\n",
              "    <tr>\n",
              "      <th>1</th>\n",
              "      <td>67</td>\n",
              "      <td>1</td>\n",
              "      <td>asymptomatic</td>\n",
              "      <td>160</td>\n",
              "      <td>286</td>\n",
              "      <td>0</td>\n",
              "      <td>2</td>\n",
              "      <td>108</td>\n",
              "      <td>1</td>\n",
              "      <td>1.5</td>\n",
              "      <td>2</td>\n",
              "      <td>3.0</td>\n",
              "      <td>normal</td>\n",
              "      <td>Yes</td>\n",
              "      <td>Elderly</td>\n",
              "      <td>Elderly</td>\n",
              "    </tr>\n",
              "    <tr>\n",
              "      <th>2</th>\n",
              "      <td>67</td>\n",
              "      <td>1</td>\n",
              "      <td>asymptomatic</td>\n",
              "      <td>120</td>\n",
              "      <td>229</td>\n",
              "      <td>0</td>\n",
              "      <td>2</td>\n",
              "      <td>129</td>\n",
              "      <td>1</td>\n",
              "      <td>2.6</td>\n",
              "      <td>2</td>\n",
              "      <td>2.0</td>\n",
              "      <td>reversable</td>\n",
              "      <td>Yes</td>\n",
              "      <td>Elderly</td>\n",
              "      <td>Elderly</td>\n",
              "    </tr>\n",
              "    <tr>\n",
              "      <th>3</th>\n",
              "      <td>37</td>\n",
              "      <td>1</td>\n",
              "      <td>nonanginal</td>\n",
              "      <td>130</td>\n",
              "      <td>250</td>\n",
              "      <td>0</td>\n",
              "      <td>0</td>\n",
              "      <td>187</td>\n",
              "      <td>0</td>\n",
              "      <td>3.5</td>\n",
              "      <td>3</td>\n",
              "      <td>0.0</td>\n",
              "      <td>normal</td>\n",
              "      <td>No</td>\n",
              "      <td>Young</td>\n",
              "      <td>Young</td>\n",
              "    </tr>\n",
              "    <tr>\n",
              "      <th>4</th>\n",
              "      <td>41</td>\n",
              "      <td>0</td>\n",
              "      <td>nontypical</td>\n",
              "      <td>130</td>\n",
              "      <td>204</td>\n",
              "      <td>0</td>\n",
              "      <td>2</td>\n",
              "      <td>172</td>\n",
              "      <td>0</td>\n",
              "      <td>1.4</td>\n",
              "      <td>1</td>\n",
              "      <td>0.0</td>\n",
              "      <td>normal</td>\n",
              "      <td>No</td>\n",
              "      <td>Middle-Aged</td>\n",
              "      <td>Middle-Aged</td>\n",
              "    </tr>\n",
              "    <tr>\n",
              "      <th>...</th>\n",
              "      <td>...</td>\n",
              "      <td>...</td>\n",
              "      <td>...</td>\n",
              "      <td>...</td>\n",
              "      <td>...</td>\n",
              "      <td>...</td>\n",
              "      <td>...</td>\n",
              "      <td>...</td>\n",
              "      <td>...</td>\n",
              "      <td>...</td>\n",
              "      <td>...</td>\n",
              "      <td>...</td>\n",
              "      <td>...</td>\n",
              "      <td>...</td>\n",
              "      <td>...</td>\n",
              "      <td>...</td>\n",
              "    </tr>\n",
              "    <tr>\n",
              "      <th>297</th>\n",
              "      <td>57</td>\n",
              "      <td>0</td>\n",
              "      <td>asymptomatic</td>\n",
              "      <td>140</td>\n",
              "      <td>241</td>\n",
              "      <td>0</td>\n",
              "      <td>0</td>\n",
              "      <td>123</td>\n",
              "      <td>1</td>\n",
              "      <td>0.2</td>\n",
              "      <td>2</td>\n",
              "      <td>0.0</td>\n",
              "      <td>reversable</td>\n",
              "      <td>Yes</td>\n",
              "      <td>Elderly</td>\n",
              "      <td>Elderly</td>\n",
              "    </tr>\n",
              "    <tr>\n",
              "      <th>298</th>\n",
              "      <td>45</td>\n",
              "      <td>1</td>\n",
              "      <td>typical</td>\n",
              "      <td>110</td>\n",
              "      <td>264</td>\n",
              "      <td>0</td>\n",
              "      <td>0</td>\n",
              "      <td>132</td>\n",
              "      <td>0</td>\n",
              "      <td>1.2</td>\n",
              "      <td>2</td>\n",
              "      <td>0.0</td>\n",
              "      <td>reversable</td>\n",
              "      <td>Yes</td>\n",
              "      <td>Middle-Aged</td>\n",
              "      <td>Middle-Aged</td>\n",
              "    </tr>\n",
              "    <tr>\n",
              "      <th>299</th>\n",
              "      <td>68</td>\n",
              "      <td>1</td>\n",
              "      <td>asymptomatic</td>\n",
              "      <td>144</td>\n",
              "      <td>193</td>\n",
              "      <td>1</td>\n",
              "      <td>0</td>\n",
              "      <td>141</td>\n",
              "      <td>0</td>\n",
              "      <td>3.4</td>\n",
              "      <td>2</td>\n",
              "      <td>2.0</td>\n",
              "      <td>reversable</td>\n",
              "      <td>Yes</td>\n",
              "      <td>Elderly</td>\n",
              "      <td>Elderly</td>\n",
              "    </tr>\n",
              "    <tr>\n",
              "      <th>300</th>\n",
              "      <td>57</td>\n",
              "      <td>1</td>\n",
              "      <td>asymptomatic</td>\n",
              "      <td>130</td>\n",
              "      <td>131</td>\n",
              "      <td>0</td>\n",
              "      <td>0</td>\n",
              "      <td>115</td>\n",
              "      <td>1</td>\n",
              "      <td>1.2</td>\n",
              "      <td>2</td>\n",
              "      <td>1.0</td>\n",
              "      <td>reversable</td>\n",
              "      <td>Yes</td>\n",
              "      <td>Elderly</td>\n",
              "      <td>Elderly</td>\n",
              "    </tr>\n",
              "    <tr>\n",
              "      <th>301</th>\n",
              "      <td>57</td>\n",
              "      <td>0</td>\n",
              "      <td>nontypical</td>\n",
              "      <td>130</td>\n",
              "      <td>236</td>\n",
              "      <td>0</td>\n",
              "      <td>2</td>\n",
              "      <td>174</td>\n",
              "      <td>0</td>\n",
              "      <td>0.0</td>\n",
              "      <td>2</td>\n",
              "      <td>1.0</td>\n",
              "      <td>normal</td>\n",
              "      <td>Yes</td>\n",
              "      <td>Elderly</td>\n",
              "      <td>Elderly</td>\n",
              "    </tr>\n",
              "  </tbody>\n",
              "</table>\n",
              "<p>297 rows × 16 columns</p>\n",
              "</div>"
            ],
            "text/plain": [
              "     Age  Sex     ChestPain  RestBP  Chol  Fbs  RestECG  MaxHR  ExAng  \\\n",
              "0     63    1       typical     145   233    1        2    150      0   \n",
              "1     67    1  asymptomatic     160   286    0        2    108      1   \n",
              "2     67    1  asymptomatic     120   229    0        2    129      1   \n",
              "3     37    1    nonanginal     130   250    0        0    187      0   \n",
              "4     41    0    nontypical     130   204    0        2    172      0   \n",
              "..   ...  ...           ...     ...   ...  ...      ...    ...    ...   \n",
              "297   57    0  asymptomatic     140   241    0        0    123      1   \n",
              "298   45    1       typical     110   264    0        0    132      0   \n",
              "299   68    1  asymptomatic     144   193    1        0    141      0   \n",
              "300   57    1  asymptomatic     130   131    0        0    115      1   \n",
              "301   57    0    nontypical     130   236    0        2    174      0   \n",
              "\n",
              "     Oldpeak  Slope   Ca        Thal  AHD   Age Status    Age Range  \n",
              "0        2.3      3  0.0       fixed   No      Elderly      Elderly  \n",
              "1        1.5      2  3.0      normal  Yes      Elderly      Elderly  \n",
              "2        2.6      2  2.0  reversable  Yes      Elderly      Elderly  \n",
              "3        3.5      3  0.0      normal   No        Young        Young  \n",
              "4        1.4      1  0.0      normal   No  Middle-Aged  Middle-Aged  \n",
              "..       ...    ...  ...         ...  ...          ...          ...  \n",
              "297      0.2      2  0.0  reversable  Yes      Elderly      Elderly  \n",
              "298      1.2      2  0.0  reversable  Yes  Middle-Aged  Middle-Aged  \n",
              "299      3.4      2  2.0  reversable  Yes      Elderly      Elderly  \n",
              "300      1.2      2  1.0  reversable  Yes      Elderly      Elderly  \n",
              "301      0.0      2  1.0      normal  Yes      Elderly      Elderly  \n",
              "\n",
              "[297 rows x 16 columns]"
            ]
          },
          "execution_count": 53,
          "metadata": {},
          "output_type": "execute_result"
        }
      ],
      "source": [
        "#12 Please divide data into three groups: the elderly (>55yo),middle-aged(40-55yo), young(<40yo) people by looking at the age ranges.\n",
        "conditions = [df[\"Age\"] > 55, (df[\"Age\"] <= 55) & (df[\"Age\"] >= 40), df[\"Age\"] < 40]\n",
        "choices = ['Elderly', 'Middle-Aged', 'Young']\n",
        "df['Age Range'] = np.select(conditions, choices)\n",
        "df"
      ]
    },
    {
      "cell_type": "code",
      "execution_count": 66,
      "metadata": {
        "id": "DcKUcSV2wLsl"
      },
      "outputs": [
        {
          "data": {
            "text/plain": [
              "<BarContainer object of 297 artists>"
            ]
          },
          "execution_count": 66,
          "metadata": {},
          "output_type": "execute_result"
        },
        {
          "data": {
            "image/png": "[encoded data removed]",
            "text/plain": [
              "<Figure size 640x480 with 1 Axes>"
            ]
          },
          "metadata": {},
          "output_type": "display_data"
        }
      ],
      "source": [
        "#13 Show the data count for each age based on their groups: elderly, middle-aged, young people and please show it in a Bar Plot\n",
        "\n",
        "x = df[\"Age Range\"]\n",
        "y = df[\"Age\"]\n",
        "\n",
        "plt.xlabel('Age Range')\n",
        "plt.ylabel('Age')\n",
        "plt.bar(x,y)"
      ]
    },
    {
      "cell_type": "code",
      "execution_count": 68,
      "metadata": {
        "id": "t5g7bJ43xVbq"
      },
      "outputs": [],
      "source": [
        "#14 add a new column 'AgeRange' and put the correct value based on the age category. Then plot a categorical scatterplot to show each observation. Your chart will show something like this\n",
        "# I already added the the column on number 12\n",
        "\n"
      ]
    },
    {
      "cell_type": "markdown",
      "metadata": {
        "id": "ESPrIZqlFm4L"
      },
      "source": [
        "![Screen Shot 2022-10-31 at 3.06.26 PM.png](data:image/png;base64,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)"
      ]
    },
    {
      "cell_type": "markdown",
      "metadata": {
        "id": "q9jR3mYuFhY0"
      },
      "source": []
    },
    {
      "cell_type": "code",
      "execution_count": 71,
      "metadata": {
        "id": "sHRaaTfAx3qR"
      },
      "outputs": [],
      "source": [
        "#15 Show 'Age Range' value distributions in Pie Chart\n"
      ]
    },
    {
      "cell_type": "markdown",
      "metadata": {
        "id": "ydG97CItnNHn"
      },
      "source": [
        "## **MODEL, TRAINING and TESTING (Weight 30%)**"
      ]
    },
    {
      "cell_type": "markdown",
      "metadata": {
        "id": "HAvJhvOEnshv"
      },
      "source": [
        "As a result of our initial evaluations, we have used a number of artificial learning algorithms. support vector machine (SVM) and Decision Trees algorithms. To implement this algorithm model, we need to separate dependent and independent variables within our data sets. In addition, we created a combination of features between different features to make different experiments. While creating these parameters, the process of finding the best results was made by giving hyper parameter values.\n",
        "\n",
        "As is known, most of our data are categorized and not categorized only among certain feature values. We will perform scale operations to eliminate these situations.\n",
        "\n",
        "In a data set, the data that are distant from each other are made to scale between each other by making a specific scaling. As a result of this operation, the data takes a value of 0.1. This may change in some scaling operations. Standard and Normalization scale will be used for our operation. There is a big change between the data obtained. Therefore, we need to use this method for SVM algorithm."
      ]
    },
    {
      "cell_type": "code",
      "execution_count": 73,
      "metadata": {
        "id": "lzf-8nO_zjJI"
      },
      "outputs": [],
      "source": [
        "#16 Some of the data is still in string, so we need to change it to numeric (ChestPain, Thal, and AHD)\n",
        "\n"
      ]
    },
    {
      "cell_type": "code",
      "execution_count": null,
      "metadata": {
        "id": "54jnXSW_nKvt"
      },
      "outputs": [],
      "source": [
        "#17 Please show the statistical correlation value (Hint: use function corr) amongst all the columns in the dataset\n"
      ]
    },
    {
      "cell_type": "markdown",
      "metadata": {
        "id": "VIamvmUMOp7p"
      },
      "source": [
        "The diagonal values we see in these correlation values are always 1.0. That doesn't mean much to us. The minus value is a big problem, but the value of the transactions are more valuable for us."
      ]
    },
    {
      "cell_type": "code",
      "execution_count": null,
      "metadata": {
        "id": "jAH7Ro9lqRMh"
      },
      "outputs": [],
      "source": [
        "#18 Please normalize the data (hint: use StandardScaler)\n"
      ]
    },
    {
      "cell_type": "markdown",
      "metadata": {
        "id": "x4fFKi3ZqRnw"
      },
      "source": [
        "The difference in value between our data is too big. It increases both the volume and the results are very bad. To reduce this situation we need to use the StandardScaler function. A value of -1.1 will be obtained after using it."
      ]
    },
    {
      "cell_type": "code",
      "execution_count": null,
      "metadata": {
        "id": "_-btkPRSpRS3"
      },
      "outputs": [],
      "source": [
        "#19 Split dataset into two subsets: train and test sets (Train: 67%, Test: 33%)\n"
      ]
    },
    {
      "cell_type": "markdown",
      "metadata": {
        "id": "QUDlBCVk1Ulm"
      },
      "source": []
    },
    {
      "cell_type": "markdown",
      "metadata": {
        "id": "nr9a2ROW9fU-"
      },
      "source": [
        "## Optional steps for Extra Point (additional extra point Weight 20%)\n",
        "\n",
        "\n"
      ]
    },
    {
      "cell_type": "markdown",
      "metadata": {
        "id": "Yaqq0UIi1ZMS"
      },
      "source": [
        "This is ***OPTIONAL STEPs*** to improve accuracy of your model\n",
        "\n",
        " implement PCA to the data set.\n",
        "\n",
        "But, before that, I will investigate the explained variance ratio and resulting principal components:"
      ]
    },
    {
      "cell_type": "code",
      "execution_count": null,
      "metadata": {
        "id": "k4GC8nqLvL3C"
      },
      "outputs": [],
      "source": [
        "#* investigate the explained variance ratio and resulting principal components\n"
      ]
    },
    {
      "cell_type": "code",
      "execution_count": null,
      "metadata": {
        "id": "LtBUkWKa1BxK"
      },
      "outputs": [],
      "source": [
        "#* apply PCA to the data with number of components = 8 for X_train\n"
      ]
    },
    {
      "cell_type": "code",
      "execution_count": null,
      "metadata": {
        "id": "LpE7UyOj1iav"
      },
      "outputs": [],
      "source": [
        "#* apply PCA to the data with number of components = 8 for X_test\n"
      ]
    },
    {
      "cell_type": "markdown",
      "metadata": {
        "id": "hSSQX0hf1rGV"
      },
      "source": [
        "According to the principal components, data points with greater values on the x-axis represent the customers that are less likely to spend to Detergents_Paper category.\n",
        "\n",
        "Likewise, data points with greater values on the y-axis represent the customers that are less likely to spend to Fresh and Frozen categories.\n",
        "\n",
        "Now, you can constitute a DataFrame out of my reduced data with two dimensions:"
      ]
    },
    {
      "cell_type": "code",
      "execution_count": null,
      "metadata": {
        "id": "x9JYNApk11Xd"
      },
      "outputs": [],
      "source": [
        "#*  create combine feature list for training the model based on reduced data (optional steps that can be used for training SVM and Decision Tree Models)\n"
      ]
    },
    {
      "cell_type": "markdown",
      "metadata": {
        "id": "UdHKkUgL8Cpz"
      },
      "source": [
        "##Lets create the training Model and test the performance"
      ]
    },
    {
      "cell_type": "markdown",
      "metadata": {
        "id": "JOC6abeaonoX"
      },
      "source": [
        "**SVM**"
      ]
    },
    {
      "cell_type": "code",
      "execution_count": null,
      "metadata": {
        "id": "3aM6SW0J2I32"
      },
      "outputs": [],
      "source": [
        "# Please import all required library for SVM (Classification)\n"
      ]
    },
    {
      "cell_type": "code",
      "execution_count": null,
      "metadata": {
        "id": "3JYz3xWyoClH"
      },
      "outputs": [],
      "source": [
        "# 20 \n",
        "# Build an SVM model, train it on train data and test it on test data. Please print Train Classification Report and Confusion Matrix.\n",
        "# Don't forget to setup random_state to compare the same data with other model later (Decision Tree)\n"
      ]
    },
    {
      "cell_type": "markdown",
      "metadata": {
        "id": "ACgABIrUowdm"
      },
      "source": [
        "**Decision Tree**"
      ]
    },
    {
      "cell_type": "code",
      "execution_count": null,
      "metadata": {
        "id": "DSaJ6hm72avl"
      },
      "outputs": [],
      "source": [
        "# Please import all required library for DecisionTreeClassifier "
      ]
    },
    {
      "cell_type": "code",
      "execution_count": null,
      "metadata": {
        "id": "QW8RLx8FovTY"
      },
      "outputs": [],
      "source": [
        "# 21 \n",
        "# Build a Decision Tree model, train it on train data and test it on test data. Please print Train Classification Report and Confusion Matrix.\n",
        "# Don't forget to setup same random_state "
      ]
    },
    {
      "cell_type": "markdown",
      "metadata": {
        "id": "9iAcLtaY2kit"
      },
      "source": [
        "**Last thing, What you could conclude with this analysis?**"
      ]
    },
    {
      "cell_type": "markdown",
      "metadata": {
        "id": "jshXTYXK7Om2"
      },
      "source": [
        "Please summarize your finding from these model performance"
      ]
    }
  ],
  "metadata": {
    "colab": {
      "collapsed_sections": [
        "nr9a2ROW9fU-"
      ],
      "provenance": []
    },
    "kernelspec": {
      "display_name": "Python 3.9.13 64-bit (microsoft store)",
      "language": "python",
      "name": "python3"
    },
    "language_info": {
      "codemirror_mode": {
        "name": "ipython",
        "version": 3
      },
      "file_extension": ".py",
      "mimetype": "text/x-python",
      "name": "python",
      "nbconvert_exporter": "python",
      "pygments_lexer": "ipython3",
      "version": "3.9.13"
    },
    "vscode": {
      "interpreter": {
        "hash": "330291e952ef2592d61b7857e145d2070e6df96cbb58463d8ee825546f424b29"
      }
    }
  },
  "nbformat": 4,
  "nbformat_minor": 0
}
